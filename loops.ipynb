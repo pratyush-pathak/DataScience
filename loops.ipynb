{
 "cells": [
  {
   "cell_type": "markdown",
   "metadata": {},
   "source": [
    "## For loop"
   ]
  },
  {
   "cell_type": "code",
   "execution_count": 6,
   "metadata": {},
   "outputs": [
    {
     "name": "stdout",
     "output_type": "stream",
     "text": [
      "1, 529, 25, 36, 9, 36, 441, 36, 36, "
     ]
    }
   ],
   "source": [
    "nums = [1,23,5,6,3,6,21,6,6]\n",
    "for i in nums:\n",
    "    print( i**2 , end=\", \")"
   ]
  },
  {
   "cell_type": "code",
   "execution_count": 10,
   "metadata": {},
   "outputs": [
    {
     "name": "stdout",
     "output_type": "stream",
     "text": [
      "1 john\n",
      "2 jane\n",
      "3 jack\n",
      "4 jill\n"
     ]
    }
   ],
   "source": [
    "names = ['john', 'jane', 'jack', 'jill']\n",
    "for index,names in enumerate(names,start=1):\n",
    "\n",
    "    print( index,names )"
   ]
  },
  {
   "cell_type": "code",
   "execution_count": 13,
   "metadata": {},
   "outputs": [
    {
     "name": "stdout",
     "output_type": "stream",
     "text": [
      "5\n",
      "18\n",
      "39\n",
      "68\n",
      "105\n"
     ]
    }
   ],
   "source": [
    "x = [2,4,6,8,10]\n",
    "y = [1,3,5,7,9]\n",
    "z = [3,6,9,12,15]\n",
    "for i,j,k in zip(x,y,z):\n",
    "    print(i*j+k)"
   ]
  },
  {
   "cell_type": "code",
   "execution_count": 19,
   "metadata": {},
   "outputs": [
    {
     "name": "stdout",
     "output_type": "stream",
     "text": [
      "Interstellar        8.8⭐\n",
      "The Martin          8.8⭐\n",
      "Gravity             7.7⭐\n",
      "Apollo              7.6⭐\n"
     ]
    }
   ],
   "source": [
    "movies = ['Interstellar', 'The Martin', 'Gravity', 'Apollo']\n",
    "rating = [8.8,8.8,7.7,7.6]\n",
    "\n",
    "for name,star in zip(movies,rating):\n",
    "    print(f'{name:20}{star}⭐')"
   ]
  },
  {
   "cell_type": "code",
   "execution_count": 2,
   "metadata": {},
   "outputs": [
    {
     "name": "stdout",
     "output_type": "stream",
     "text": [
      "1 2 2 3 "
     ]
    }
   ],
   "source": [
    "x = [1,2,2,3,0,2,2,1,2,2,3,0,4,5,1,2,4,5]\n",
    "for i in x:\n",
    "    if i == 0:\n",
    "        break\n",
    "    print(i, end=' ')"
   ]
  },
  {
   "cell_type": "code",
   "execution_count": 4,
   "metadata": {},
   "outputs": [
    {
     "name": "stdout",
     "output_type": "stream",
     "text": [
      "1 2 2 3 2 2 1 2 2 3 4 5 1 2 4 5 loop completed\n"
     ]
    }
   ],
   "source": [
    "x = [1,2,2,3,0,2,2,1,2,2,3,0,4,5,1,2,4,5]\n",
    "for i in x:\n",
    "    if i == 0:\n",
    "        break\n",
    "    print(i,end=' ')\n",
    "else:\n",
    "    print('loop completed')"
   ]
  },
  {
   "cell_type": "code",
   "execution_count": 10,
   "metadata": {},
   "outputs": [
    {
     "name": "stdout",
     "output_type": "stream",
     "text": [
      "1 2 2 3 2 2 1 2 2 3 4 5 1 2 4 5 loop completed\n"
     ]
    }
   ],
   "source": [
    "x = [1,2,2,3,None,2,2,1,2,2,3,None,4,5,1,2,4,5]\n",
    "for i in x:\n",
    "    if i is None:\n",
    "        continue\n",
    "    print(i,end=' ')\n",
    "else:\n",
    "    print('loop completed')"
   ]
  },
  {
   "cell_type": "code",
   "execution_count": 7,
   "metadata": {},
   "outputs": [
    {
     "name": "stdout",
     "output_type": "stream",
     "text": [
      "prime\n"
     ]
    }
   ],
   "source": [
    "num = int(input('enter a number'))\n",
    "for i in range(2,num):\n",
    "    if(num%i == 0):\n",
    "        print('not prime')\n",
    "        break\n",
    "else:\n",
    "    print('prime')"
   ]
  },
  {
   "cell_type": "code",
   "execution_count": 12,
   "metadata": {},
   "outputs": [
    {
     "name": "stdout",
     "output_type": "stream",
     "text": [
      "1 2 2 3 2 2 1 2 2 3 4 5 1 2 4 5 loop completed\n"
     ]
    }
   ],
   "source": [
    "x = [1,2,2,3,None,2,2,1,2,2,3,None,4,5,1,2,4,5]\n",
    "for i in x:\n",
    "    if i is not None:\n",
    "        print(i,end=' ')\n",
    "else:\n",
    "    print('loop completed')"
   ]
  },
  {
   "cell_type": "code",
   "execution_count": 27,
   "metadata": {},
   "outputs": [
    {
     "name": "stdout",
     "output_type": "stream",
     "text": [
      "19\n"
     ]
    }
   ],
   "source": [
    "x = [1,2,2,3,None,2,2,1,2,2,3,None,4,5,1,2,4,5]\n",
    "Sum = 0\n",
    "for i in x:\n",
    "    if i is not None and i%2 !=0:\n",
    "        Sum += i\n",
    "print(Sum)\n"
   ]
  },
  {
   "cell_type": "markdown",
   "metadata": {},
   "source": [
    "infinite loop"
   ]
  },
  {
   "cell_type": "code",
   "execution_count": 32,
   "metadata": {},
   "outputs": [
    {
     "name": "stdout",
     "output_type": "stream",
     "text": [
      "wrong password\n"
     ]
    }
   ],
   "source": [
    "while True:\n",
    "    user = input('Enter username : ')\n",
    "    if user == 'pratyush':\n",
    "        password = input('Enter password')\n",
    "\n",
    "        if password == '22':\n",
    "            print('welcome Pratyush Sir')\n",
    "            break\n",
    "        else:\n",
    "            print('wrong password')\n",
    "            \n",
    "    else:\n",
    "        print('wrong username')\n",
    "        "
   ]
  },
  {
   "cell_type": "code",
   "execution_count": null,
   "metadata": {},
   "outputs": [],
   "source": []
  },
  {
   "cell_type": "code",
   "execution_count": null,
   "metadata": {},
   "outputs": [],
   "source": []
  }
 ],
 "metadata": {
  "kernelspec": {
   "display_name": "base",
   "language": "python",
   "name": "python3"
  },
  "language_info": {
   "codemirror_mode": {
    "name": "ipython",
    "version": 3
   },
   "file_extension": ".py",
   "mimetype": "text/x-python",
   "name": "python",
   "nbconvert_exporter": "python",
   "pygments_lexer": "ipython3",
   "version": "3.10.10"
  },
  "orig_nbformat": 4
 },
 "nbformat": 4,
 "nbformat_minor": 2
}
