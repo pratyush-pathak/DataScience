{
 "cells": [
  {
   "cell_type": "markdown",
   "metadata": {},
   "source": [
    "## Conditions in Python\n",
    "- if\n",
    "- if else\n",
    "- if elif else\n",
    "- match case\n"
   ]
  },
  {
   "cell_type": "code",
   "execution_count": 1,
   "metadata": {},
   "outputs": [],
   "source": [
    "x=10\n",
    "y=3"
   ]
  },
  {
   "cell_type": "code",
   "execution_count": 2,
   "metadata": {},
   "outputs": [
    {
     "name": "stdout",
     "output_type": "stream",
     "text": [
      " X is greater\n"
     ]
    }
   ],
   "source": [
    "if x>y :\n",
    "    print(\" X is greater\")"
   ]
  },
  {
   "cell_type": "code",
   "execution_count": 3,
   "metadata": {},
   "outputs": [
    {
     "name": "stdout",
     "output_type": "stream",
     "text": [
      "x is greater\n",
      "this is true\n",
      "this is always printed\n"
     ]
    }
   ],
   "source": [
    "if x>y :\n",
    "    print(\"x is greater\")\n",
    "    print(\"this is true\")\n",
    "print(\"this is always printed\")"
   ]
  },
  {
   "cell_type": "code",
   "execution_count": 4,
   "metadata": {},
   "outputs": [
    {
     "name": "stdout",
     "output_type": "stream",
     "text": [
      "x is greater than y and 8\n"
     ]
    }
   ],
   "source": [
    "if x>y and x>8:\n",
    "    print(\"x is greater than y and 8\")"
   ]
  },
  {
   "cell_type": "markdown",
   "metadata": {},
   "source": [
    "True values\n",
    "- True \n",
    "- non-zero number\n",
    "- non-empty string\n",
    "\n",
    "False values\n",
    "- false\n",
    "- 0\n",
    "- 0.0\n",
    "- None\n",
    "- empty string"
   ]
  },
  {
   "cell_type": "markdown",
   "metadata": {},
   "source": []
  },
  {
   "cell_type": "code",
   "execution_count": 3,
   "metadata": {},
   "outputs": [
    {
     "name": "stdout",
     "output_type": "stream",
     "text": [
      "you entered pratyush\n"
     ]
    }
   ],
   "source": [
    "name = input('enter a name')\n",
    "if name:\n",
    "    print(f'you entered {name}')\n",
    "else:\n",
    "    print('you did not enter a name')"
   ]
  },
  {
   "cell_type": "code",
   "execution_count": 5,
   "metadata": {},
   "outputs": [
    {
     "name": "stdout",
     "output_type": "stream",
     "text": [
      "odd\n"
     ]
    }
   ],
   "source": [
    "i = int(input('enter a number'))\n",
    "if i%2 == 0:\n",
    "    print('even')\n",
    "else:\n",
    "    print('odd')"
   ]
  },
  {
   "cell_type": "code",
   "execution_count": 7,
   "metadata": {},
   "outputs": [
    {
     "name": "stdout",
     "output_type": "stream",
     "text": [
      "welcome\n"
     ]
    }
   ],
   "source": [
    "username = input(\"enter username\")\n",
    "password = input(\"enter password\")\n",
    "if username == 'admin':\n",
    "    if password=='123admin':\n",
    "        print(\"welcome\")\n",
    "    else:\n",
    "        print(\"invalid password\")\n",
    "else:\n",
    "    print(\"invalid username\")\n",
    "\n"
   ]
  },
  {
   "cell_type": "code",
   "execution_count": 9,
   "metadata": {},
   "outputs": [
    {
     "name": "stdout",
     "output_type": "stream",
     "text": [
      "party\n"
     ]
    }
   ],
   "source": [
    "day = input(\"enter day\")\n",
    "if day == 'saturday':\n",
    "    print('work')\n",
    "elif day == 'sunday':\n",
    "    print('rest day')\n",
    "else:\n",
    "    print('party')   "
   ]
  },
  {
   "cell_type": "code",
   "execution_count": 11,
   "metadata": {},
   "outputs": [
    {
     "name": "stdout",
     "output_type": "stream",
     "text": [
      "time to work\n"
     ]
    }
   ],
   "source": [
    "day = input('Enrintter a day')\n",
    "match day:\n",
    "    case 'monday':\n",
    "        print('time to work')\n",
    "    case 'tuesday'| 'wednesday':\n",
    "         print('time to work')\n",
    "    case 'thursday':\n",
    "         print('time to work')\n",
    "    case 'friday':\n",
    "          print('time to work')\n",
    "    case _:\n",
    "          print('holiday')\n",
    "          "
   ]
  },
  {
   "cell_type": "code",
   "execution_count": 13,
   "metadata": {},
   "outputs": [
    {
     "name": "stdout",
     "output_type": "stream",
     "text": [
      "Virgo\n"
     ]
    }
   ],
   "source": [
    "n = input(\"Enter your birth month\")\n",
    "match n:\n",
    "    case 'january':\n",
    "        print(\"Aquarius\")\n",
    "    case 'february':\n",
    "        print(\"Pisces\")\n",
    "    case 'march':\n",
    "        print(\"Aries\")\n",
    "    case 'april':\n",
    "        print(\"Taurus\")\n",
    "    case 'may':\n",
    "        print(\"Gemini\")\n",
    "    case 'june':\n",
    "        print(\"Cancer\")\n",
    "    case' july':\n",
    "        print(\"Leo\")\n",
    "    case 'august':\n",
    "        print('Virgo')\n",
    "    case 'september':\n",
    "        print(\"Libra\")\n",
    "    case 'october':\n",
    "        print(\"Scorpio\")\n",
    "    case 'november':\n",
    "        print(\"Sagittarius\")\n",
    "    case 'december':\n",
    "        print(\"Capricorn\")\n",
    "    case _:\n",
    "        print(\"Wrong month entered \")"
   ]
  },
  {
   "cell_type": "code",
   "execution_count": null,
   "metadata": {},
   "outputs": [],
   "source": []
  }
 ],
 "metadata": {
  "kernelspec": {
   "display_name": "base",
   "language": "python",
   "name": "python3"
  },
  "language_info": {
   "codemirror_mode": {
    "name": "ipython",
    "version": 3
   },
   "file_extension": ".py",
   "mimetype": "text/x-python",
   "name": "python",
   "nbconvert_exporter": "python",
   "pygments_lexer": "ipython3",
   "version": "3.10.10"
  },
  "orig_nbformat": 4
 },
 "nbformat": 4,
 "nbformat_minor": 2
}
