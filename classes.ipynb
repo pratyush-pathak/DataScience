{
 "cells": [
  {
   "cell_type": "code",
   "execution_count": 2,
   "metadata": {},
   "outputs": [],
   "source": [
    "class cat:\n",
    "     def __init__(self):\n",
    "          print(\"the class constructor\")"
   ]
  },
  {
   "cell_type": "code",
   "execution_count": 5,
   "metadata": {},
   "outputs": [
    {
     "name": "stdout",
     "output_type": "stream",
     "text": [
      "the class constructor\n",
      "<class '__main__.cat'>\n"
     ]
    }
   ],
   "source": [
    "c1 = cat()\n",
    "print(type(c1))"
   ]
  },
  {
   "cell_type": "code",
   "execution_count": 8,
   "metadata": {},
   "outputs": [],
   "source": [
    "class Student:\n",
    "    def __init__(self, name, klass, rollno, stream='science'):\n",
    "        self.name = name \n",
    "        self.klass = klass\n",
    "        self.rollno = rollno\n",
    "        self.stream = stream\n",
    "        self.marks = {} # property of the class\n",
    "\n",
    "    def think(self, object):\n",
    "        print(f'{self.name} is thinking about {object}')\n",
    "\n",
    "    def setMarks(self, subject, value):\n",
    "        self.marks[subject] = value"
   ]
  },
  {
   "cell_type": "code",
   "execution_count": 13,
   "metadata": {},
   "outputs": [],
   "source": [
    "pratyush = Student('Pratyush', 12, '77', \"Math\")\n",
    "rifa = Student('Rifa', 12,'85', 'Cse')\n",
    "\n",
    "pratyush.setMarks('hindi',90)\n",
    "pratyush.setMarks('eng',80)\n",
    "pratyush.setMarks('maths',60)\n",
    "pratyush.setMarks('science',70)\n",
    "pratyush.setMarks('bio',85)\n",
    "rifa.setMarks('hindi',95)\n",
    "rifa.setMarks('eng',100)\n",
    "rifa.setMarks('maths',99)\n",
    "rifa.setMarks('science',90)\n",
    "rifa.setMarks('bio',95)\n"
   ]
  },
  {
   "cell_type": "code",
   "execution_count": 10,
   "metadata": {},
   "outputs": [
    {
     "name": "stdout",
     "output_type": "stream",
     "text": [
      "{'hindi': 55, 'eng': 80, 'maths': 99, 'science': 90, 'bio': 95}\n"
     ]
    }
   ],
   "source": [
    "print(rifa.marks)"
   ]
  },
  {
   "cell_type": "code",
   "execution_count": 11,
   "metadata": {},
   "outputs": [
    {
     "name": "stdout",
     "output_type": "stream",
     "text": [
      "{'hindi': 90, 'eng': 80, 'maths': 60, 'science': 70, 'bio': 85}\n"
     ]
    }
   ],
   "source": [
    "print(pratyush.marks)"
   ]
  },
  {
   "cell_type": "code",
   "execution_count": null,
   "metadata": {},
   "outputs": [],
   "source": []
  },
  {
   "cell_type": "markdown",
   "metadata": {},
   "source": []
  },
  {
   "cell_type": "code",
   "execution_count": 14,
   "metadata": {},
   "outputs": [],
   "source": [
    "## inheritance"
   ]
  },
  {
   "cell_type": "code",
   "execution_count": 18,
   "metadata": {},
   "outputs": [],
   "source": [
    "class Superlist(list):\n",
    "    def all_index(self, search):\n",
    "        idxs = []\n",
    "        start_idx = 0\n",
    "        for i in range(self.count(search)):\n",
    "            pos = self.index(search,start_idx)\n",
    "            idxs.append(pos)\n",
    "            start_idx = pos + 1\n",
    "        return idxs\n"
   ]
  },
  {
   "cell_type": "code",
   "execution_count": 19,
   "metadata": {},
   "outputs": [
    {
     "name": "stdout",
     "output_type": "stream",
     "text": [
      "[1, 2, 3, 4, 5, 5, 5]\n",
      "[1, 2, 3, 4, 5, 5, 5, 20]\n"
     ]
    }
   ],
   "source": [
    "x = Superlist([1,2,3,4,5,5,5])\n",
    "print(x)\n",
    "x.append(20)\n",
    "print(x)"
   ]
  },
  {
   "cell_type": "code",
   "execution_count": 20,
   "metadata": {},
   "outputs": [
    {
     "data": {
      "text/plain": [
       "[4, 5, 6]"
      ]
     },
     "execution_count": 20,
     "metadata": {},
     "output_type": "execute_result"
    }
   ],
   "source": [
    "x.all_index(5)"
   ]
  },
  {
   "cell_type": "code",
   "execution_count": null,
   "metadata": {},
   "outputs": [],
   "source": []
  }
 ],
 "metadata": {
  "kernelspec": {
   "display_name": "base",
   "language": "python",
   "name": "python3"
  },
  "language_info": {
   "codemirror_mode": {
    "name": "ipython",
    "version": 3
   },
   "file_extension": ".py",
   "mimetype": "text/x-python",
   "name": "python",
   "nbconvert_exporter": "python",
   "pygments_lexer": "ipython3",
   "version": "3.10.10"
  },
  "orig_nbformat": 4
 },
 "nbformat": 4,
 "nbformat_minor": 2
}
