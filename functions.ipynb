{
 "cells": [
  {
   "cell_type": "markdown",
   "metadata": {},
   "source": [
    "*syntax*\n",
    "'''\n",
    "def fun_name([parameters]):\n",
    "    statement 1\n",
    "    statement 2\n",
    "    ...\n",
    "    statement n\n",
    "    [return value]\n",
    "'''"
   ]
  },
  {
   "cell_type": "markdown",
   "metadata": {},
   "source": [
    "Types of user defined functions\n",
    "1.Non-parameterized non returning function\n",
    "2.value returning function\n",
    "3.parameterized function\n",
    "    - positional required arguments\n",
    "    - named arguments\n",
    "    - default arguments\n",
    "    - variable length arguments\n",
    "    - variable length keywords arguments\n",
    "4.parameterized and value returning function\n",
    "5.lambda function"
   ]
  },
  {
   "cell_type": "code",
   "execution_count": 1,
   "metadata": {},
   "outputs": [
    {
     "data": {
      "text/plain": [
       "0.13699500728359615"
      ]
     },
     "execution_count": 1,
     "metadata": {},
     "output_type": "execute_result"
    }
   ],
   "source": [
    "from random import random\n",
    "random()"
   ]
  },
  {
   "cell_type": "code",
   "execution_count": 2,
   "metadata": {},
   "outputs": [],
   "source": [
    "def inspireMe():\n",
    "    from random import choice\n",
    "    q = [\n",
    "        'The best way to predict the future is to invent it.',\n",
    "        'The most important step is always the next step',\n",
    "        'Hardwork beats talent.',\n",
    "        'Early to bed.'\n",
    "    ]\n",
    "    return choice(q)"
   ]
  },
  {
   "cell_type": "code",
   "execution_count": 3,
   "metadata": {},
   "outputs": [
    {
     "data": {
      "text/plain": [
       "'The most important step is always the next step'"
      ]
     },
     "execution_count": 3,
     "metadata": {},
     "output_type": "execute_result"
    }
   ],
   "source": [
    "inspireMe()"
   ]
  },
  {
   "cell_type": "code",
   "execution_count": 8,
   "metadata": {},
   "outputs": [
    {
     "name": "stdout",
     "output_type": "stream",
     "text": [
      "2\n",
      "3\n",
      "4\n"
     ]
    }
   ],
   "source": [
    "def dicey():\n",
    "    from random import randint\n",
    "    return randint(1,6)\n",
    "print(dicey())\n",
    "print(dicey())\n",
    "print(dicey())"
   ]
  },
  {
   "cell_type": "code",
   "execution_count": 9,
   "metadata": {},
   "outputs": [
    {
     "name": "stdout",
     "output_type": "stream",
     "text": [
      "3\n"
     ]
    }
   ],
   "source": [
    "roll = dicey()\n",
    "print(roll)"
   ]
  },
  {
   "cell_type": "code",
   "execution_count": 10,
   "metadata": {},
   "outputs": [
    {
     "data": {
      "text/plain": [
       "21"
      ]
     },
     "execution_count": 10,
     "metadata": {},
     "output_type": "execute_result"
    }
   ],
   "source": [
    "dicey() + dicey() * 5"
   ]
  },
  {
   "cell_type": "code",
   "execution_count": 12,
   "metadata": {},
   "outputs": [
    {
     "data": {
      "text/plain": [
       "'The number is prime'"
      ]
     },
     "execution_count": 12,
     "metadata": {},
     "output_type": "execute_result"
    }
   ],
   "source": [
    "def isPrime(n):\n",
    "    count = 0\n",
    "    for i in range(2,n):\n",
    "        if (n%i==0):\n",
    "            return 'Number is not prime.'\n",
    "    return 'The number is prime'        \n",
    "isPrime(5)\n"
   ]
  },
  {
   "cell_type": "code",
   "execution_count": 13,
   "metadata": {},
   "outputs": [],
   "source": [
    "def si(p,r,t):\n",
    "    ans = p*r*t\n",
    "    print('Principle: ',p)\n",
    "    print('Rate: ',r)\n",
    "    print('Time: ', t)\n",
    "    print('Simple Interest: ',ans)"
   ]
  },
  {
   "cell_type": "code",
   "execution_count": 14,
   "metadata": {},
   "outputs": [
    {
     "name": "stdout",
     "output_type": "stream",
     "text": [
      "Principle:  12000\n",
      "Rate:  5\n",
      "Time:  10\n",
      "Simple Interest:  600000\n"
     ]
    }
   ],
   "source": [
    "si(12000,5,10)"
   ]
  },
  {
   "cell_type": "code",
   "execution_count": 3,
   "metadata": {},
   "outputs": [
    {
     "data": {
      "text/plain": [
       "'hi hello me'"
      ]
     },
     "execution_count": 3,
     "metadata": {},
     "output_type": "execute_result"
    }
   ],
   "source": [
    "# Wap to remove all the the punctuation from the string provided b the user\n",
    "def removepunc(data):\n",
    "    from string import punctuation\n",
    "    for p in punctuation:\n",
    "           data = data.replace(p,\"\")\n",
    "    return data\n",
    "data ='!@#$%^&*hi hello me'  \n",
    "removepunc(data)"
   ]
  },
  {
   "cell_type": "code",
   "execution_count": 4,
   "metadata": {},
   "outputs": [
    {
     "name": "stdout",
     "output_type": "stream",
     "text": [
      "!\"#$%&'()*+,-./:;<=>?@[\\]^_`{|}~\n"
     ]
    }
   ],
   "source": [
    "from string import punctuation\n",
    "print(punctuation)"
   ]
  },
  {
   "cell_type": "code",
   "execution_count": 7,
   "metadata": {},
   "outputs": [],
   "source": [
    "# the expanded way to write a function\n",
    "def summer(x:int,y:int,z:int) -> int:\n",
    "    ''' A function that returns the sum of x,y and z'''\n",
    "    return x+y+z"
   ]
  },
  {
   "cell_type": "code",
   "execution_count": 6,
   "metadata": {},
   "outputs": [
    {
     "name": "stdout",
     "output_type": "stream",
     "text": [
      "60\n"
     ]
    }
   ],
   "source": [
    "print(summer(10,20,30))"
   ]
  },
  {
   "cell_type": "code",
   "execution_count": 8,
   "metadata": {},
   "outputs": [
    {
     "name": "stdout",
     "output_type": "stream",
     "text": [
      "60\n"
     ]
    }
   ],
   "source": [
    "print(summer(x=10,y=20,z=30))                  # named parameters"
   ]
  },
  {
   "cell_type": "code",
   "execution_count": 9,
   "metadata": {},
   "outputs": [
    {
     "name": "stdout",
     "output_type": "stream",
     "text": [
      "60\n"
     ]
    }
   ],
   "source": [
    "a = int(input('Enter a value:'))\n",
    "b = int(input('Enter a value:'))\n",
    "c = int(input('Enter a value:'))\n",
    "ans = summer(x=a,y=b,z=c)\n",
    "print(ans)"
   ]
  },
  {
   "cell_type": "code",
   "execution_count": 13,
   "metadata": {},
   "outputs": [
    {
     "name": "stdout",
     "output_type": "stream",
     "text": [
      "24\n",
      "6\n"
     ]
    }
   ],
   "source": [
    "def multiplier(a,b,c,d=1):               # default value of d(default parameter.)\n",
    "    return a*b*c*d\n",
    "print(multiplier(1,2,3,4))\n",
    "print(multiplier(1,2,3))\n"
   ]
  },
  {
   "cell_type": "code",
   "execution_count": 14,
   "metadata": {},
   "outputs": [
    {
     "name": "stdout",
     "output_type": "stream",
     "text": [
      "10\n",
      "20\n",
      "30\n",
      "60000\n"
     ]
    }
   ],
   "source": [
    "def multiplier(a,b=1,c=1,d=1):\n",
    "    return a*b*c*d\n",
    "\n",
    "print(multiplier(10))\n",
    "print(multiplier(10,b=2))\n",
    "print(multiplier(10,3))\n",
    "print(multiplier(10,d=10,c=20,b=30))"
   ]
  },
  {
   "cell_type": "code",
   "execution_count": 15,
   "metadata": {},
   "outputs": [
    {
     "name": "stdout",
     "output_type": "stream",
     "text": [
      "1\n",
      "10\n",
      "200\n",
      "2400\n",
      "62985600\n"
     ]
    }
   ],
   "source": [
    "# adding * to a parameter makes it a tuple object -> variable\n",
    "\n",
    "def multiplier(*nums):\n",
    "    result = 1\n",
    "    for num in nums:\n",
    "        result *= num\n",
    "    return result\n",
    "# use\n",
    "print(multiplier())\n",
    "print(multiplier(10))\n",
    "print(multiplier(10,20))\n",
    "print(multiplier(10,2,3,1,2,4,5))\n",
    "print(multiplier(10,2,3,1,2,4,5,1,2,2,3,3,3,3,3,3,3,3))"
   ]
  },
  {
   "cell_type": "code",
   "execution_count": 16,
   "metadata": {},
   "outputs": [
    {
     "name": "stdout",
     "output_type": "stream",
     "text": [
      "a this\n",
      "b that\n",
      "c other\n",
      "d something\n"
     ]
    }
   ],
   "source": [
    "# variable length keyword arguments.\n",
    "\n",
    "def msg(**kwargs):\n",
    "    for k,v in kwargs.items():\n",
    "        print(k,v)\n",
    "\n",
    "msg(a='this',b='that',c='other',d='something')"
   ]
  },
  {
   "cell_type": "code",
   "execution_count": 17,
   "metadata": {},
   "outputs": [
    {
     "data": {
      "text/plain": [
       "'Records saved successfully'"
      ]
     },
     "execution_count": 17,
     "metadata": {},
     "output_type": "execute_result"
    }
   ],
   "source": [
    "# records\n",
    "\n",
    "def student_records(**students):\n",
    "    with open('records.txt','a') as file:\n",
    "        for k,v in students.items():\n",
    "            file.write(f'{k} => {v}\\n')\n",
    "        file.write('\\n')\n",
    "    return 'Records saved successfully'\n",
    "\n",
    "student_records(\n",
    "    alex = 87,\n",
    "    arun = 59,\n",
    "    rakesh = 92,\n",
    "    suresh = 99,\n",
    "    brijesh = 67\n",
    ")"
   ]
  },
  {
   "cell_type": "code",
   "execution_count": 18,
   "metadata": {},
   "outputs": [
    {
     "data": {
      "text/plain": [
       "'Records saved successfully'"
      ]
     },
     "execution_count": 18,
     "metadata": {},
     "output_type": "execute_result"
    }
   ],
   "source": [
    "student_records(\n",
    "    ali = 59,\n",
    "    ansh = 64,\n",
    "    aryan = 50\n",
    ")"
   ]
  },
  {
   "cell_type": "markdown",
   "metadata": {},
   "source": [
    "- f(x) = x^2 + x10 + x\n",
    "- g(x,y) = x^2 + y^2 +xy\n",
    "##### f(2)(3)"
   ]
  },
  {
   "cell_type": "code",
   "execution_count": 19,
   "metadata": {},
   "outputs": [
    {
     "name": "stdout",
     "output_type": "stream",
     "text": [
      "42\n",
      "60\n",
      "80\n",
      "37\n",
      "61\n"
     ]
    }
   ],
   "source": [
    "f = lambda x : x**2 + x*10 +x\n",
    "g = lambda x, y: x**2 + y**2 + x*y\n",
    "print(f(3))\n",
    "print(f(4))\n",
    "print(f(5))\n",
    "print(g(3,4))\n",
    "print(g(4,5))"
   ]
  },
  {
   "cell_type": "markdown",
   "metadata": {},
   "source": [
    "map,reduce"
   ]
  },
  {
   "cell_type": "code",
   "execution_count": 20,
   "metadata": {},
   "outputs": [
    {
     "name": "stdout",
     "output_type": "stream",
     "text": [
      "[276, 60, 126, 1230, 3752, 8900]\n"
     ]
    }
   ],
   "source": [
    "data = [12,4,7,30,56,89]\n",
    "data2 = list(map(f,data))\n",
    "print(data2)"
   ]
  },
  {
   "cell_type": "code",
   "execution_count": null,
   "metadata": {},
   "outputs": [],
   "source": []
  }
 ],
 "metadata": {
  "kernelspec": {
   "display_name": "base",
   "language": "python",
   "name": "python3"
  },
  "language_info": {
   "codemirror_mode": {
    "name": "ipython",
    "version": 3
   },
   "file_extension": ".py",
   "mimetype": "text/x-python",
   "name": "python",
   "nbconvert_exporter": "python",
   "pygments_lexer": "ipython3",
   "version": "3.10.10"
  },
  "orig_nbformat": 4
 },
 "nbformat": 4,
 "nbformat_minor": 2
}
