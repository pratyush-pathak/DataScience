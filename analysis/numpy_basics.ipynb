{
 "cells": [
  {
   "cell_type": "code",
   "execution_count": 3,
   "metadata": {},
   "outputs": [
    {
     "data": {
      "text/plain": [
       "'pip install numpy'"
      ]
     },
     "execution_count": 3,
     "metadata": {},
     "output_type": "execute_result"
    }
   ],
   "source": [
    "'''pip install numpy'''"
   ]
  },
  {
   "cell_type": "code",
   "execution_count": 7,
   "metadata": {},
   "outputs": [],
   "source": [
    "import numpy as np"
   ]
  },
  {
   "cell_type": "code",
   "execution_count": 5,
   "metadata": {},
   "outputs": [
    {
     "name": "stdout",
     "output_type": "stream",
     "text": [
      "[1 2 3 4] <class 'numpy.ndarray'>\n"
     ]
    }
   ],
   "source": [
    "n1 = np.array([1,2,3,4])\n",
    "print(n1, type(n1))"
   ]
  },
  {
   "cell_type": "code",
   "execution_count": 6,
   "metadata": {},
   "outputs": [
    {
     "data": {
      "text/plain": [
       "array([1, 2, 3, 4])"
      ]
     },
     "execution_count": 6,
     "metadata": {},
     "output_type": "execute_result"
    }
   ],
   "source": [
    "n1"
   ]
  },
  {
   "cell_type": "code",
   "execution_count": 8,
   "metadata": {},
   "outputs": [
    {
     "data": {
      "text/plain": [
       "47"
      ]
     },
     "execution_count": 8,
     "metadata": {},
     "output_type": "execute_result"
    }
   ],
   "source": [
    "x = []\n",
    "len(dir(x))"
   ]
  },
  {
   "cell_type": "code",
   "execution_count": 10,
   "metadata": {},
   "outputs": [
    {
     "data": {
      "text/plain": [
       "165"
      ]
     },
     "execution_count": 10,
     "metadata": {},
     "output_type": "execute_result"
    }
   ],
   "source": [
    "len(dir(n1))"
   ]
  },
  {
   "cell_type": "code",
   "execution_count": 11,
   "metadata": {},
   "outputs": [
    {
     "data": {
      "text/plain": [
       "(4,)"
      ]
     },
     "execution_count": 11,
     "metadata": {},
     "output_type": "execute_result"
    }
   ],
   "source": [
    "n1.shape"
   ]
  },
  {
   "cell_type": "code",
   "execution_count": 13,
   "metadata": {},
   "outputs": [
    {
     "name": "stdout",
     "output_type": "stream",
     "text": [
      "[[1 2 3]\n",
      " [2 3 5]]\n",
      "(2, 3)\n"
     ]
    }
   ],
   "source": [
    "n2 = np.array([[1,2,3],[2,3,5]])\n",
    "print(n2)\n",
    "print(n2.shape)"
   ]
  },
  {
   "cell_type": "markdown",
   "metadata": {},
   "source": [
    "creating matrix\n",
    "- arrange\n",
    "- linspace\n",
    "- random.rand\n",
    "- random.randn\n",
    "- random.randint\n",
    "- eye\n",
    "- ones\n",
    "- zeros"
   ]
  },
  {
   "cell_type": "code",
   "execution_count": 16,
   "metadata": {},
   "outputs": [
    {
     "data": {
      "text/plain": [
       "(100,)"
      ]
     },
     "execution_count": 16,
     "metadata": {},
     "output_type": "execute_result"
    }
   ],
   "source": [
    "x=np.arange(-10,10,.2)\n",
    "x.shape"
   ]
  },
  {
   "cell_type": "code",
   "execution_count": 19,
   "metadata": {},
   "outputs": [
    {
     "name": "stdout",
     "output_type": "stream",
     "text": [
      "[1.         1.16666667 1.33333333 1.5        1.66666667 1.83333333\n",
      " 2.         2.16666667 2.33333333 2.5        2.66666667 2.83333333\n",
      " 3.         3.16666667 3.33333333 3.5        3.66666667 3.83333333\n",
      " 4.         4.16666667 4.33333333 4.5        4.66666667 4.83333333\n",
      " 5.        ]\n"
     ]
    },
    {
     "data": {
      "text/plain": [
       "(25,)"
      ]
     },
     "execution_count": 19,
     "metadata": {},
     "output_type": "execute_result"
    }
   ],
   "source": [
    "y = np.linspace(1,5,25)\n",
    "print(y)\n",
    "y.shape"
   ]
  },
  {
   "cell_type": "code",
   "execution_count": 22,
   "metadata": {},
   "outputs": [
    {
     "data": {
      "text/plain": [
       "array([[0.71317608, 0.47617082, 0.57868026],\n",
       "       [0.61667612, 0.68366796, 0.30737478],\n",
       "       [0.72153676, 0.43676391, 0.46965823]])"
      ]
     },
     "execution_count": 22,
     "metadata": {},
     "output_type": "execute_result"
    }
   ],
   "source": [
    "np.random.rand(3,3)"
   ]
  },
  {
   "cell_type": "code",
   "execution_count": 25,
   "metadata": {},
   "outputs": [
    {
     "data": {
      "text/plain": [
       "array([ 0.76803021,  0.22909148,  0.14137045,  1.91969161,  1.02774145,\n",
       "       -1.17452811, -0.54593527,  1.48785725,  2.86721795,  0.37353358])"
      ]
     },
     "execution_count": 25,
     "metadata": {},
     "output_type": "execute_result"
    }
   ],
   "source": [
    "np.random.randn(10)"
   ]
  },
  {
   "cell_type": "code",
   "execution_count": 28,
   "metadata": {},
   "outputs": [
    {
     "data": {
      "text/plain": [
       "array([[816, 947, 886, 337,  30],\n",
       "       [ 53, 711, 825, 868, 641],\n",
       "       [144, 506, 290,  59, 768],\n",
       "       [149, 777, 524, 645, 847],\n",
       "       [405, 588, 896, 290, 444]])"
      ]
     },
     "execution_count": 28,
     "metadata": {},
     "output_type": "execute_result"
    }
   ],
   "source": [
    "np.random.randint(1,1000, (5,5))"
   ]
  },
  {
   "cell_type": "code",
   "execution_count": 29,
   "metadata": {},
   "outputs": [
    {
     "data": {
      "text/plain": [
       "2"
      ]
     },
     "execution_count": 29,
     "metadata": {},
     "output_type": "execute_result"
    }
   ],
   "source": [
    "np.random.randint(1,5)"
   ]
  },
  {
   "cell_type": "code",
   "execution_count": 10,
   "metadata": {},
   "outputs": [
    {
     "name": "stdout",
     "output_type": "stream",
     "text": [
      "[[4 8]\n",
      " [7 6]\n",
      " [5 8]]\n",
      "[[1 3]\n",
      " [4 6]\n",
      " [7 3]]\n"
     ]
    }
   ],
   "source": [
    "x = np.random.randint(1,10, (3,2))\n",
    "y = np.random.randint(1,10, (3,2))\n",
    "print(x)\n",
    "print(y)"
   ]
  },
  {
   "cell_type": "code",
   "execution_count": 32,
   "metadata": {},
   "outputs": [
    {
     "data": {
      "text/plain": [
       "array([[ 6, 11],\n",
       "       [12,  6],\n",
       "       [11, 11]])"
      ]
     },
     "execution_count": 32,
     "metadata": {},
     "output_type": "execute_result"
    }
   ],
   "source": [
    "x + 5"
   ]
  },
  {
   "cell_type": "code",
   "execution_count": 33,
   "metadata": {},
   "outputs": [
    {
     "data": {
      "text/plain": [
       "array([[10, 11],\n",
       "       [12, 10],\n",
       "       [10, 12]])"
      ]
     },
     "execution_count": 33,
     "metadata": {},
     "output_type": "execute_result"
    }
   ],
   "source": [
    "x + y"
   ]
  },
  {
   "cell_type": "code",
   "execution_count": 34,
   "metadata": {},
   "outputs": [
    {
     "data": {
      "text/plain": [
       "array([[0.11111111, 1.2       ],\n",
       "       [1.4       , 0.11111111],\n",
       "       [1.5       , 1.        ]])"
      ]
     },
     "execution_count": 34,
     "metadata": {},
     "output_type": "execute_result"
    }
   ],
   "source": [
    "x / y"
   ]
  },
  {
   "cell_type": "code",
   "execution_count": 35,
   "metadata": {},
   "outputs": [
    {
     "data": {
      "text/plain": [
       "array([[ 9, 30],\n",
       "       [35,  9],\n",
       "       [24, 36]])"
      ]
     },
     "execution_count": 35,
     "metadata": {},
     "output_type": "execute_result"
    }
   ],
   "source": [
    "x * y"
   ]
  },
  {
   "cell_type": "code",
   "execution_count": 43,
   "metadata": {},
   "outputs": [
    {
     "data": {
      "text/plain": [
       "array([[ 0.84147098, -0.2794155 ],\n",
       "       [ 0.6569866 ,  0.84147098],\n",
       "       [-0.2794155 , -0.2794155 ]])"
      ]
     },
     "execution_count": 43,
     "metadata": {},
     "output_type": "execute_result"
    }
   ],
   "source": [
    "np.sin(x)"
   ]
  },
  {
   "cell_type": "code",
   "execution_count": 44,
   "metadata": {},
   "outputs": [
    {
     "name": "stdout",
     "output_type": "stream",
     "text": [
      "27\n",
      "4.5\n",
      "2.5\n"
     ]
    }
   ],
   "source": [
    "print(x.sum())\n",
    "print(x.mean())\n",
    "print(x.std())"
   ]
  },
  {
   "cell_type": "code",
   "execution_count": 11,
   "metadata": {},
   "outputs": [
    {
     "data": {
      "text/plain": [
       "array([[28, 64, 52],\n",
       "       [25, 64, 67],\n",
       "       [29, 68, 59]])"
      ]
     },
     "execution_count": 11,
     "metadata": {},
     "output_type": "execute_result"
    }
   ],
   "source": [
    "#dot operation\n",
    "x.dot(y.T)"
   ]
  },
  {
   "cell_type": "code",
   "execution_count": null,
   "metadata": {},
   "outputs": [],
   "source": []
  },
  {
   "cell_type": "code",
   "execution_count": 12,
   "metadata": {},
   "outputs": [
    {
     "name": "stdout",
     "output_type": "stream",
     "text": [
      "(50,)\n",
      "[[0.         0.10204082 0.20408163 0.30612245 0.40816327]\n",
      " [0.51020408 0.6122449  0.71428571 0.81632653 0.91836735]\n",
      " [1.02040816 1.12244898 1.2244898  1.32653061 1.42857143]\n",
      " [1.53061224 1.63265306 1.73469388 1.83673469 1.93877551]\n",
      " [2.04081633 2.14285714 2.24489796 2.34693878 2.44897959]\n",
      " [2.55102041 2.65306122 2.75510204 2.85714286 2.95918367]\n",
      " [3.06122449 3.16326531 3.26530612 3.36734694 3.46938776]\n",
      " [3.57142857 3.67346939 3.7755102  3.87755102 3.97959184]\n",
      " [4.08163265 4.18367347 4.28571429 4.3877551  4.48979592]\n",
      " [4.59183673 4.69387755 4.79591837 4.89795918 5.        ]]\n",
      "(10, 5)\n"
     ]
    }
   ],
   "source": [
    "a = np.linspace(0,5,50)\n",
    "print(a.shape)\n",
    "a2 = a.reshape(10,5)\n",
    "print(a2)\n",
    "print(a2.shape)"
   ]
  },
  {
   "cell_type": "code",
   "execution_count": 22,
   "metadata": {},
   "outputs": [
    {
     "name": "stdout",
     "output_type": "stream",
     "text": [
      "[[7 9 5 2 4 5 7 6 4 5]\n",
      " [1 5 4 4 1 6 2 8 6 4]\n",
      " [8 2 4 4 2 2 4 9 4 8]\n",
      " [3 6 9 2 1 1 9 4 2 5]\n",
      " [1 1 7 6 2 9 6 4 1 7]\n",
      " [1 4 8 6 2 7 8 2 3 5]\n",
      " [1 6 8 1 4 4 2 8 6 4]\n",
      " [7 4 9 6 3 1 3 1 7 5]\n",
      " [6 5 3 7 9 8 1 2 5 9]\n",
      " [4 4 8 4 1 2 1 6 3 2]]\n"
     ]
    }
   ],
   "source": [
    "m = np.random.randint(1, 10, (10,10))\n",
    "print(a)"
   ]
  },
  {
   "cell_type": "code",
   "execution_count": 26,
   "metadata": {},
   "outputs": [
    {
     "name": "stdout",
     "output_type": "stream",
     "text": [
      "1\n",
      "7\n",
      "5\n",
      "3\n",
      "10\n"
     ]
    }
   ],
   "source": [
    "print(m[0, 0])\n",
    "print(m[0, -1])\n",
    "print(m[-1, 0])\n",
    "print(m[-1, -1])"
   ]
  },
  {
   "cell_type": "code",
   "execution_count": 31,
   "metadata": {},
   "outputs": [
    {
     "name": "stdout",
     "output_type": "stream",
     "text": [
      "[1 1 7 4 3 2 6 1 5 7]\n",
      "[6 3 5 5 6 1 7 6 1 1]\n",
      "[5 4 8 6 5 3 4 3 9 3]\n"
     ]
    }
   ],
   "source": [
    "print(m[0])\n",
    "print(m[1])\n",
    "print(m[-1])"
   ]
  },
  {
   "cell_type": "code",
   "execution_count": 28,
   "metadata": {},
   "outputs": [
    {
     "name": "stdout",
     "output_type": "stream",
     "text": [
      "[[1 1 7 4 3 2 6 1 5 7]\n",
      " [6 3 5 5 6 1 7 6 1 1]\n",
      " [6 1 8 4 8 8 8 9 7 2]]\n"
     ]
    }
   ],
   "source": [
    "print(m[:3])"
   ]
  },
  {
   "cell_type": "code",
   "execution_count": 29,
   "metadata": {},
   "outputs": [
    {
     "name": "stdout",
     "output_type": "stream",
     "text": [
      "[[6 6 9 5 1 9 6 5 1 7]\n",
      " [5 5 7 2 3 9 9 1 6 1]\n",
      " [5 4 8 6 5 3 4 3 9 3]]\n"
     ]
    }
   ],
   "source": [
    "print(m[-3:])"
   ]
  },
  {
   "cell_type": "code",
   "execution_count": 37,
   "metadata": {},
   "outputs": [
    {
     "name": "stdout",
     "output_type": "stream",
     "text": [
      "[1 6 6 4 6 6 4 6 5 5]\n",
      "[7 1 2 6 2 4 4 7 1 3]\n",
      "[[1 1 7]\n",
      " [6 3 5]\n",
      " [6 1 8]\n",
      " [4 3 8]\n",
      " [6 8 7]\n",
      " [6 6 3]\n",
      " [4 3 1]\n",
      " [6 6 9]\n",
      " [5 5 7]\n",
      " [5 4 8]]\n",
      "[[1 5 7]\n",
      " [6 1 1]\n",
      " [9 7 2]\n",
      " [5 8 6]\n",
      " [9 5 2]\n",
      " [8 9 4]\n",
      " [8 9 4]\n",
      " [5 1 7]\n",
      " [1 6 1]\n",
      " [3 9 3]]\n"
     ]
    }
   ],
   "source": [
    "print(m[:,0])\n",
    "print(m[:,-1])\n",
    "print(m[:,:3])\n",
    "print(m[:,-3:])"
   ]
  },
  {
   "cell_type": "code",
   "execution_count": 38,
   "metadata": {},
   "outputs": [
    {
     "name": "stdout",
     "output_type": "stream",
     "text": [
      "[[1 1 4 6]\n",
      " [6 3 5 7]\n",
      " [6 1 4 8]\n",
      " [4 3 7 7]\n",
      " [6 8 1 5]\n",
      " [6 6 9 3]\n",
      " [4 3 9 8]\n",
      " [6 6 5 6]\n",
      " [5 5 2 9]\n",
      " [5 4 6 4]]\n"
     ]
    }
   ],
   "source": [
    "print(m[:, [0,1,3,6]])"
   ]
  },
  {
   "cell_type": "markdown",
   "metadata": {},
   "source": [
    "filtering"
   ]
  },
  {
   "cell_type": "code",
   "execution_count": 41,
   "metadata": {},
   "outputs": [
    {
     "data": {
      "text/plain": [
       "array([[ True,  True, False,  True,  True,  True, False,  True, False,\n",
       "        False],\n",
       "       [False,  True, False, False, False,  True, False, False,  True,\n",
       "         True],\n",
       "       [False,  True, False,  True, False, False, False, False, False,\n",
       "         True],\n",
       "       [ True,  True, False, False,  True,  True, False, False, False,\n",
       "        False],\n",
       "       [False, False, False,  True,  True,  True, False, False, False,\n",
       "         True],\n",
       "       [False, False,  True, False, False, False,  True, False, False,\n",
       "         True],\n",
       "       [ True,  True,  True, False,  True, False, False, False, False,\n",
       "         True],\n",
       "       [False, False, False, False,  True, False, False, False,  True,\n",
       "        False],\n",
       "       [False, False, False,  True,  True, False, False,  True, False,\n",
       "         True],\n",
       "       [False,  True, False, False, False,  True,  True,  True, False,\n",
       "         True]])"
      ]
     },
     "execution_count": 41,
     "metadata": {},
     "output_type": "execute_result"
    }
   ],
   "source": [
    "m < 5 #boolean filter"
   ]
  },
  {
   "cell_type": "code",
   "execution_count": 51,
   "metadata": {},
   "outputs": [
    {
     "data": {
      "text/plain": [
       "91"
      ]
     },
     "execution_count": 51,
     "metadata": {},
     "output_type": "execute_result"
    }
   ],
   "source": [
    "m[m<5]\n",
    "m[m<5].sum()"
   ]
  },
  {
   "cell_type": "code",
   "execution_count": 48,
   "metadata": {},
   "outputs": [
    {
     "data": {
      "text/plain": [
       "array([4, 6, 5, 6, 5, 5, 6, 6, 6, 4, 4, 5, 6, 6, 5, 5, 6, 6, 5, 4, 4, 6,\n",
       "       4, 6, 6, 5, 6, 5, 5, 5, 6, 5, 4, 6, 5, 4])"
      ]
     },
     "execution_count": 48,
     "metadata": {},
     "output_type": "execute_result"
    }
   ],
   "source": [
    "m[(m>3) & (m<=6)]"
   ]
  },
  {
   "cell_type": "code",
   "execution_count": null,
   "metadata": {},
   "outputs": [],
   "source": []
  },
  {
   "cell_type": "code",
   "execution_count": null,
   "metadata": {},
   "outputs": [],
   "source": []
  }
 ],
 "metadata": {
  "kernelspec": {
   "display_name": "base",
   "language": "python",
   "name": "python3"
  },
  "language_info": {
   "codemirror_mode": {
    "name": "ipython",
    "version": 3
   },
   "file_extension": ".py",
   "mimetype": "text/x-python",
   "name": "python",
   "nbconvert_exporter": "python",
   "pygments_lexer": "ipython3",
   "version": "3.10.10"
  },
  "orig_nbformat": 4
 },
 "nbformat": 4,
 "nbformat_minor": 2
}
