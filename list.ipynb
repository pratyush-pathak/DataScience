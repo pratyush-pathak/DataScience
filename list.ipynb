{
 "cells": [
  {
   "cell_type": "markdown",
   "metadata": {},
   "source": [
    "#### list\n",
    "- indexed, ordered, **mutable**, allows duplicate, heterogeneous, '[]' , 'list()'\n",
    "#### tuple\n",
    "- indexed, ordered, **immutable**, allows duplicate, heterogeneous, '()', 'tuple()'\n",
    "#### set\n",
    "- **unordered**, mutable, **does not allow duplicates elements**, heterogeneous, '{}', 'set()'\n",
    "#### dictionary\n",
    "- **unordered**, mutable, **does not allow duplicates keys**, heterogeneous, key:value pairs, '{}', 'dict()'"
   ]
  },
  {
   "cell_type": "markdown",
   "metadata": {},
   "source": [
    "#### list\n",
    "- creating\n",
    "- indexing and slicing\n",
    "- methods(11 methods)\n",
    "- list comprehension"
   ]
  },
  {
   "cell_type": "code",
   "execution_count": 32,
   "metadata": {},
   "outputs": [
    {
     "ename": "TypeError",
     "evalue": "'list' object is not callable",
     "output_type": "error",
     "traceback": [
      "\u001b[1;31m---------------------------------------------------------------------------\u001b[0m",
      "\u001b[1;31mTypeError\u001b[0m                                 Traceback (most recent call last)",
      "Cell \u001b[1;32mIn[32], line 8\u001b[0m\n\u001b[0;32m      6\u001b[0m cloned \u001b[39m=\u001b[39m [\u001b[39m1\u001b[39m,\u001b[39m2\u001b[39m,\u001b[39m3\u001b[39m] \u001b[39m*\u001b[39m \u001b[39m5\u001b[39m\n\u001b[0;32m      7\u001b[0m words \u001b[39m=\u001b[39m \u001b[39m'\u001b[39m\u001b[39mthis is sparated\u001b[39m\u001b[39m'\u001b[39m\u001b[39m.\u001b[39msplit()\n\u001b[1;32m----> 8\u001b[0m chars \u001b[39m=\u001b[39m \u001b[39mlist\u001b[39;49m(\u001b[39m'\u001b[39;49m\u001b[39mAlexander\u001b[39;49m\u001b[39m'\u001b[39;49m)\n",
      "\u001b[1;31mTypeError\u001b[0m: 'list' object is not callable"
     ]
    }
   ],
   "source": [
    "x = [1,2,3,4,5]\n",
    "names = ['john','paul','george','ringo']\n",
    "mix = [1,'john',3.14,True] \n",
    "nested = [[1,2,3],[4,5,6],[7,8,9]]\n",
    "mt = []\n",
    "cloned = [1,2,3] * 5\n",
    "words = 'this is sparated'.split()\n",
    "chars = list('Alexander')"
   ]
  },
  {
   "cell_type": "code",
   "execution_count": null,
   "metadata": {},
   "outputs": [
    {
     "name": "stdout",
     "output_type": "stream",
     "text": [
      "1\n",
      "5\n"
     ]
    }
   ],
   "source": [
    "print(x[0])\n",
    "print(x[-1])\n",
    "x[0] = 100 #updating value at index 0\n"
   ]
  },
  {
   "cell_type": "code",
   "execution_count": null,
   "metadata": {},
   "outputs": [
    {
     "data": {
      "text/plain": [
       "['A', 'l', 'e', 'x', 'a']"
      ]
     },
     "execution_count": 4,
     "metadata": {},
     "output_type": "execute_result"
    }
   ],
   "source": [
    "chars[:5]"
   ]
  },
  {
   "cell_type": "code",
   "execution_count": null,
   "metadata": {},
   "outputs": [
    {
     "data": {
      "text/plain": [
       "['r', 'e', 'd', 'n', 'a', 'x', 'e', 'l', 'A']"
      ]
     },
     "execution_count": 5,
     "metadata": {},
     "output_type": "execute_result"
    }
   ],
   "source": [
    "chars[::-1]"
   ]
  },
  {
   "cell_type": "markdown",
   "metadata": {},
   "source": [
    "- adding\n",
    "    - append()\n",
    "    - extend()\n",
    "    - insert()\n",
    "- remove\n",
    "    - remove()\n",
    "    - pop()\n",
    "    - clear()\n",
    "- utility\n",
    "    - count()\n",
    "    - index()\n",
    "    - sort()\n",
    "    - reverse()\n",
    "    - copy()"
   ]
  },
  {
   "cell_type": "code",
   "execution_count": null,
   "metadata": {},
   "outputs": [
    {
     "name": "stdout",
     "output_type": "stream",
     "text": [
      "[100, 2, 3, 4, 5, 6, 3, 6, 3]\n"
     ]
    }
   ],
   "source": [
    "x.append(6)\n",
    "x.append(3)\n",
    "print(x)"
   ]
  },
  {
   "cell_type": "code",
   "execution_count": null,
   "metadata": {},
   "outputs": [
    {
     "name": "stdout",
     "output_type": "stream",
     "text": [
      "[100, 2, 3, 4, 5, 6, 3, 6, 3, 11, 12, 13]\n"
     ]
    }
   ],
   "source": [
    "a = [11,12,13]\n",
    "x.extend(a)\n",
    "print(x)"
   ]
  },
  {
   "cell_type": "code",
   "execution_count": null,
   "metadata": {},
   "outputs": [
    {
     "name": "stdout",
     "output_type": "stream",
     "text": [
      "[100, 2, 3, 4, 5, 100, 500, 6, 3, 6, 3, 11, 12, 13]\n"
     ]
    }
   ],
   "source": [
    "x.insert(5,100)\n",
    "x.insert(6,500)\n",
    "print(x)"
   ]
  },
  {
   "cell_type": "code",
   "execution_count": null,
   "metadata": {},
   "outputs": [
    {
     "name": "stdout",
     "output_type": "stream",
     "text": [
      "[2, 3, 4, 5, 500, 6, 3, 6, 3, 11, 12, 13]\n"
     ]
    }
   ],
   "source": [
    "if 100 in x:\n",
    "    x.remove(100)\n",
    "print(x)"
   ]
  },
  {
   "cell_type": "code",
   "execution_count": null,
   "metadata": {},
   "outputs": [
    {
     "name": "stdout",
     "output_type": "stream",
     "text": [
      "[1, 2, 3, 4, 5]\n"
     ]
    }
   ],
   "source": [
    "n = int(input())\n",
    "list=[]\n",
    "for i in range(n):\n",
    "    list.append(int(input()))\n",
    "print(list)"
   ]
  },
  {
   "cell_type": "code",
   "execution_count": null,
   "metadata": {},
   "outputs": [
    {
     "name": "stdout",
     "output_type": "stream",
     "text": [
      "5\n",
      "13\n"
     ]
    }
   ],
   "source": [
    " print(x.pop(2))\n",
    "print(x.pop())\n"
   ]
  },
  {
   "cell_type": "code",
   "execution_count": null,
   "metadata": {},
   "outputs": [
    {
     "name": "stdout",
     "output_type": "stream",
     "text": [
      "[]\n"
     ]
    }
   ],
   "source": [
    "x = [1,2,3,4]\n",
    "x.clear()\n",
    "print(x)"
   ]
  },
  {
   "cell_type": "code",
   "execution_count": null,
   "metadata": {},
   "outputs": [
    {
     "name": "stdout",
     "output_type": "stream",
     "text": [
      "6\n"
     ]
    }
   ],
   "source": [
    "x = [1,2,3,1,1,2,2,2,2,1,1,1]\n",
    "print(x.count(1))"
   ]
  },
  {
   "cell_type": "code",
   "execution_count": null,
   "metadata": {},
   "outputs": [
    {
     "name": "stdout",
     "output_type": "stream",
     "text": [
      "['george', 'john', 'paul', 'ringo']\n"
     ]
    }
   ],
   "source": [
    "names.sort()\n",
    "print(names)"
   ]
  },
  {
   "cell_type": "code",
   "execution_count": null,
   "metadata": {},
   "outputs": [],
   "source": []
  },
  {
   "cell_type": "code",
   "execution_count": 36,
   "metadata": {},
   "outputs": [
    {
     "name": "stdout",
     "output_type": "stream",
     "text": [
      "[0, 1, 1, 2, 3, 5, 8, 13, 21, 34]\n"
     ]
    }
   ],
   "source": [
    "a = 0\n",
    "b = 1\n",
    "list = []\n",
    "list.append(a)\n",
    "list.append(b)\n",
    "for i in range(8):\n",
    "    c = a+b\n",
    "    list.append(c)\n",
    "    a,b=b,c\n",
    "print(list)\n"
   ]
  },
  {
   "cell_type": "code",
   "execution_count": 2,
   "metadata": {},
   "outputs": [
    {
     "name": "stdout",
     "output_type": "stream",
     "text": [
      "[1, 4, 9, 16, 25]\n"
     ]
    }
   ],
   "source": [
    "x = [1,2,3,4,5]\n",
    "x2 = []\n",
    "for i in x:\n",
    "    s = i ** 2\n",
    "    x2.append(s)\n",
    "print(x2)"
   ]
  },
  {
   "cell_type": "code",
   "execution_count": 3,
   "metadata": {},
   "outputs": [
    {
     "name": "stdout",
     "output_type": "stream",
     "text": [
      "['peter', 'bruce', 'clark']\n"
     ]
    }
   ],
   "source": [
    "names = ['peter parker','bruce wayne','clark kent']\n",
    "fname = []\n",
    "for nm in names:\n",
    "    fname.append(nm.split()[0])\n",
    "print(fname)"
   ]
  },
  {
   "cell_type": "code",
   "execution_count": 4,
   "metadata": {},
   "outputs": [
    {
     "name": "stdout",
     "output_type": "stream",
     "text": [
      "[2, 4, 6, 8, 10]\n"
     ]
    }
   ],
   "source": [
    "x = [1,2,3,4,5,6,7,8,9,10]\n",
    "even = []\n",
    "for i in x:\n",
    "    if(i%2 == 0):\n",
    "        even.append(i)\n",
    "print(even)\n"
   ]
  },
  {
   "cell_type": "code",
   "execution_count": 5,
   "metadata": {},
   "outputs": [
    {
     "name": "stdout",
     "output_type": "stream",
     "text": [
      "[2, 4, 6, 8, 10]\n"
     ]
    }
   ],
   "source": [
    "x2 = [i for i in x if(i%2 == 0)]\n",
    "print(x2)"
   ]
  },
  {
   "cell_type": "code",
   "execution_count": 6,
   "metadata": {},
   "outputs": [
    {
     "name": "stdout",
     "output_type": "stream",
     "text": [
      "['parker', 'wayne', 'kent']\n"
     ]
    }
   ],
   "source": [
    "lnames = [nm.split()[-1] for nm in names]\n",
    "print(lnames)"
   ]
  },
  {
   "cell_type": "code",
   "execution_count": null,
   "metadata": {},
   "outputs": [],
   "source": []
  }
 ],
 "metadata": {
  "kernelspec": {
   "display_name": "base",
   "language": "python",
   "name": "python3"
  },
  "language_info": {
   "codemirror_mode": {
    "name": "ipython",
    "version": 3
   },
   "file_extension": ".py",
   "mimetype": "text/x-python",
   "name": "python",
   "nbconvert_exporter": "python",
   "pygments_lexer": "ipython3",
   "version": "3.10.10"
  },
  "orig_nbformat": 4
 },
 "nbformat": 4,
 "nbformat_minor": 2
}
