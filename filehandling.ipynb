{
 "cells": [
  {
   "cell_type": "markdown",
   "metadata": {},
   "source": [
    "# file handling\n",
    "- open\n",
    "- read\n",
    "- write\n",
    "- append\n",
    "- close \n",
    "    - with keyword is better"
   ]
  },
  {
   "cell_type": "code",
   "execution_count": 1,
   "metadata": {},
   "outputs": [
    {
     "data": {
      "text/plain": [
       "<_io.TextIOWrapper name='t1.py' mode='r' encoding='UTF-8'>"
      ]
     },
     "execution_count": 1,
     "metadata": {},
     "output_type": "execute_result"
    }
   ],
   "source": [
    "open('t1.py') # open and load into memory"
   ]
  },
  {
   "cell_type": "code",
   "execution_count": 2,
   "metadata": {},
   "outputs": [
    {
     "data": {
      "text/plain": [
       "\"from turtle import *\\n\\nspeed('slowest')\\npencolor('red')\\nfor i in range(10,0,-1):\\n    fd(90)\\n    rt(360/10)\\n    dot(10, 'green')\\n    write(i, font=('Calibri', 20, 'bold'))\\n\\ngoto(100,100)\\nfor i in range(10,0,-1):\\n    fd(90)\\n    lt(360/10)\\n    dot(10, 'green')\\n    write(i, font=('Calibri', 20, 'bold'))\\n\\nmainloop()\\n\""
      ]
     },
     "execution_count": 2,
     "metadata": {},
     "output_type": "execute_result"
    }
   ],
   "source": [
    "open('t1.py').read()"
   ]
  },
  {
   "cell_type": "code",
   "execution_count": 9,
   "metadata": {},
   "outputs": [
    {
     "name": "stdout",
     "output_type": "stream",
     "text": [
      "from turtle import *\n",
      "\n",
      "speed('slowest')\n",
      "pencolor('red')\n",
      "for i in range(10,0,-1):\n",
      "    fd(90)\n",
      "    rt(360/10)\n",
      "    dot(10, 'green')\n",
      "    write(i, font=('Calibri', 20, 'bold'))\n",
      "\n",
      "goto(100,100)\n",
      "for i in range(10,0,-1):\n",
      "    fd(90)\n",
      "    lt(360/10)\n",
      "    dot(10, 'green')\n",
      "    write(i, font=('Calibri', 20, 'bold'))\n",
      "\n",
      "mainloop()\n",
      "\n"
     ]
    }
   ],
   "source": [
    "# reading a file using with statement\n",
    "with open('t1.py') as file:\n",
    "    content = file.read()\n",
    "print(content)\n",
    "\n"
   ]
  },
  {
   "cell_type": "code",
   "execution_count": 8,
   "metadata": {},
   "outputs": [
    {
     "name": "stdout",
     "output_type": "stream",
     "text": [
      "from turtle import *\n",
      "\n",
      "speed('slowest')\n",
      "pencolor('red')\n",
      "for i in range(10,0,-1):\n",
      "    fd(90)\n",
      "    rt(360/10)\n",
      "    dot(10, 'green')\n",
      "    write(i, font=('Calibri', 20, 'bold'))\n",
      "\n",
      "goto(100,100)\n",
      "for i in range(10,0,-1):\n",
      "    fd(90)\n",
      "    lt(360/10)\n",
      "    dot(10, 'green')\n",
      "    write(i, font=('Calibri', 20, 'bold'))\n",
      "\n",
      "mainloop()\n",
      "\n"
     ]
    }
   ],
   "source": [
    "# reading a file using with statement if error\n",
    "with open('t1.py', encoding='utf-8', errors='ignore') as file:\n",
    "    content = file.read()\n",
    "print(content)"
   ]
  },
  {
   "cell_type": "code",
   "execution_count": 16,
   "metadata": {},
   "outputs": [
    {
     "name": "stdout",
     "output_type": "stream",
     "text": [
      "621351\n"
     ]
    }
   ],
   "source": [
    "path = r'C:\\Users\\pratyush\\Pictures\\Screenshots\\Screenshot (3).png'\n",
    "with open(path, 'rb') as file:\n",
    "    bytes = file.read()\n",
    "print(len(bytes))"
   ]
  },
  {
   "cell_type": "code",
   "execution_count": 17,
   "metadata": {},
   "outputs": [],
   "source": [
    "data = ' pratyush\\npathak'\n",
    "with open('oaths.txt', 'w') as file:\n",
    "    file.write(data)\n",
    "    "
   ]
  },
  {
   "cell_type": "code",
   "execution_count": 20,
   "metadata": {},
   "outputs": [
    {
     "name": "stdout",
     "output_type": "stream",
     "text": [
      "kahani khatam\n"
     ]
    }
   ],
   "source": [
    "with open('kahani.txt', 'w') as file:\n",
    "    while True:\n",
    "        line = input('>>>')\n",
    "        if not line:\n",
    "            break\n",
    "        file.writelines(line + '\\n')\n",
    "    print('kahani khatam')"
   ]
  },
  {
   "cell_type": "code",
   "execution_count": 22,
   "metadata": {},
   "outputs": [],
   "source": [
    "# adding content to existing file\n",
    "with open('oaths.txt', 'a') as file:\n",
    "    file.write('new data \\n')\n",
    "    file.write('new data \\n')"
   ]
  },
  {
   "cell_type": "markdown",
   "metadata": {},
   "source": [
    "# os library"
   ]
  },
  {
   "cell_type": "code",
   "execution_count": 23,
   "metadata": {},
   "outputs": [],
   "source": [
    "import os"
   ]
  },
  {
   "cell_type": "code",
   "execution_count": 24,
   "metadata": {},
   "outputs": [
    {
     "name": "stdout",
     "output_type": "stream",
     "text": [
      "the current path is: \n",
      "c:\\Users\\pratyush\\Desktop\\PYTHON(DS)\n"
     ]
    }
   ],
   "source": [
    "print('the current path is: ')\n",
    "print(os.getcwd())"
   ]
  },
  {
   "cell_type": "code",
   "execution_count": 25,
   "metadata": {},
   "outputs": [
    {
     "name": "stdout",
     "output_type": "stream",
     "text": [
      "all the content in current directory\n"
     ]
    },
    {
     "data": {
      "text/plain": [
       "['.git',\n",
       " 'basics.ipynb',\n",
       " 'conditions.ipynb',\n",
       " 'dictionary.ipynb',\n",
       " 'filehandling.ipynb',\n",
       " 'h.py',\n",
       " 'hello.py',\n",
       " 'kahani.txt',\n",
       " 'list.ipynb',\n",
       " 'loops.ipynb',\n",
       " 'oaths.txt',\n",
       " 'strings.ipynb',\n",
       " 'stringspractice.ipynb',\n",
       " 't1.py',\n",
       " 't2.py',\n",
       " 't3.py',\n",
       " 't4.py',\n",
       " 'tuples&sets.ipynb']"
      ]
     },
     "execution_count": 25,
     "metadata": {},
     "output_type": "execute_result"
    }
   ],
   "source": [
    "print(\"all the content in current directory\")\n",
    "os.listdir()"
   ]
  },
  {
   "cell_type": "code",
   "execution_count": 38,
   "metadata": {},
   "outputs": [
    {
     "name": "stdout",
     "output_type": "stream",
     "text": [
      "All the content of some other location\n"
     ]
    },
    {
     "data": {
      "text/plain": [
       "['!qhlogs.doc',\n",
       " '73018i5zteow1 (1).pdf',\n",
       " '73018i5zteow1.pdf',\n",
       " 'Amazon_logo.png',\n",
       " 'Brooklyn.Nine-Nine.S02E01.720p.HDTV.x264-@iMediaShare.mkv',\n",
       " 'Brooklyn.Nine-Nine.S02E02.720p.HDTV.x264-@iMediaShare.mkv',\n",
       " 'Brooklyn.Nine-Nine.S02E03.720p.HDTV.x264-@iMediaShare.mkv',\n",
       " 'Brooklyn.Nine-Nine.S02E04.720p.HDTV.x264-@iMediaShare.mkv',\n",
       " 'Brooklyn.Nine-Nine.S02E05.720p.HDTV.x264-@iMediaShare.mkv',\n",
       " 'Brooklyn.Nine-Nine.S02E06.720p.HDTV.x264-@iMediaShare.mkv',\n",
       " 'Brooklyn.Nine-Nine.S02E07.720p.HDTV.x264-@iMediaShare.mkv',\n",
       " 'Brooklyn.Nine.Nine.S01E12.720p.WEB.DL.sujaidr.mkv',\n",
       " 'Brooklyn.Nine.Nine.S01E13.720p.WEB-DL.sujaidr.mkv',\n",
       " 'Brooklyn.Nine.Nine.S01E14.720p.WEB-DL.sujaidr.mkv',\n",
       " 'Brooklyn.Nine.Nine.S01E15.720p.WEB-DL.sujaidr.mkv',\n",
       " 'Brooklyn.Nine.Nine.S01E16.720p.WEB-DL.sujaidr.mkv',\n",
       " 'Brooklyn.Nine.Nine.S01E17.720p.WEB-DL.sujaidr.mkv',\n",
       " 'Brooklyn.Nine.Nine.S01E18.720p.WEB-DL.sujaidr.mkv',\n",
       " 'Brooklyn.Nine.Nine.S01E19.720p.WEB-DL.sujaidr.mkv',\n",
       " 'Brooklyn.Nine.Nine.S01E20.720p.WEB-DL.sujaidr.mkv',\n",
       " 'Brooklyn.Nine.Nine.S01E21.720p.WEB-DL.sujaidr.mkv',\n",
       " 'Brooklyn.Nine.Nine.S01E22.720p.WEB.DL.sujaidr.mkv',\n",
       " 'desktop.ini',\n",
       " 'Git-2.41.0-64-bit.exe',\n",
       " 'ideaIC-2023.1.4.exe',\n",
       " 'Miniconda3-py310_23.3.1-0-Windows-x86_64.exe',\n",
       " 'SpiderMan SpiderVerse (2018) [Hin+Eng] 720p @IMDbHindimovies.mkv',\n",
       " 'Unconfirmed 238606.crdownload',\n",
       " 'VSCodeUserSetup-x64-1.79.2.exe',\n",
       " 'wallpaperflare.com_wallpaper.jpg']"
      ]
     },
     "execution_count": 38,
     "metadata": {},
     "output_type": "execute_result"
    }
   ],
   "source": [
    "print('All the content of some other location')\n",
    "path = r\"C:\\Users\\pratyush\\Downloads\"\n",
    "os.listdir(path)"
   ]
  },
  {
   "cell_type": "code",
   "execution_count": 43,
   "metadata": {},
   "outputs": [
    {
     "name": "stdout",
     "output_type": "stream",
     "text": [
      "C:\\Users\\pratyush\\Downloads\\!qhlogs.doc\n",
      "C:\\Users\\pratyush\\Downloads\\73018i5zteow1 (1).pdf\n",
      "C:\\Users\\pratyush\\Downloads\\73018i5zteow1.pdf\n",
      "C:\\Users\\pratyush\\Downloads\\Amazon_logo.png\n",
      "C:\\Users\\pratyush\\Downloads\\Brooklyn.Nine-Nine.S02E01.720p.HDTV.x264-@iMediaShare.mkv\n",
      "C:\\Users\\pratyush\\Downloads\\Brooklyn.Nine-Nine.S02E02.720p.HDTV.x264-@iMediaShare.mkv\n",
      "C:\\Users\\pratyush\\Downloads\\Brooklyn.Nine-Nine.S02E03.720p.HDTV.x264-@iMediaShare.mkv\n",
      "C:\\Users\\pratyush\\Downloads\\Brooklyn.Nine-Nine.S02E04.720p.HDTV.x264-@iMediaShare.mkv\n",
      "C:\\Users\\pratyush\\Downloads\\Brooklyn.Nine-Nine.S02E05.720p.HDTV.x264-@iMediaShare.mkv\n",
      "C:\\Users\\pratyush\\Downloads\\Brooklyn.Nine-Nine.S02E06.720p.HDTV.x264-@iMediaShare.mkv\n",
      "C:\\Users\\pratyush\\Downloads\\Brooklyn.Nine-Nine.S02E07.720p.HDTV.x264-@iMediaShare.mkv\n",
      "C:\\Users\\pratyush\\Downloads\\Brooklyn.Nine.Nine.S01E12.720p.WEB.DL.sujaidr.mkv\n",
      "C:\\Users\\pratyush\\Downloads\\Brooklyn.Nine.Nine.S01E13.720p.WEB-DL.sujaidr.mkv\n",
      "C:\\Users\\pratyush\\Downloads\\Brooklyn.Nine.Nine.S01E14.720p.WEB-DL.sujaidr.mkv\n",
      "C:\\Users\\pratyush\\Downloads\\Brooklyn.Nine.Nine.S01E15.720p.WEB-DL.sujaidr.mkv\n",
      "C:\\Users\\pratyush\\Downloads\\Brooklyn.Nine.Nine.S01E16.720p.WEB-DL.sujaidr.mkv\n",
      "C:\\Users\\pratyush\\Downloads\\Brooklyn.Nine.Nine.S01E17.720p.WEB-DL.sujaidr.mkv\n",
      "C:\\Users\\pratyush\\Downloads\\Brooklyn.Nine.Nine.S01E18.720p.WEB-DL.sujaidr.mkv\n",
      "C:\\Users\\pratyush\\Downloads\\Brooklyn.Nine.Nine.S01E19.720p.WEB-DL.sujaidr.mkv\n",
      "C:\\Users\\pratyush\\Downloads\\Brooklyn.Nine.Nine.S01E20.720p.WEB-DL.sujaidr.mkv\n",
      "C:\\Users\\pratyush\\Downloads\\Brooklyn.Nine.Nine.S01E21.720p.WEB-DL.sujaidr.mkv\n",
      "C:\\Users\\pratyush\\Downloads\\Brooklyn.Nine.Nine.S01E22.720p.WEB.DL.sujaidr.mkv\n",
      "C:\\Users\\pratyush\\Downloads\\desktop.ini\n",
      "C:\\Users\\pratyush\\Downloads\\Git-2.41.0-64-bit.exe\n",
      "C:\\Users\\pratyush\\Downloads\\ideaIC-2023.1.4.exe\n",
      "C:\\Users\\pratyush\\Downloads\\Miniconda3-py310_23.3.1-0-Windows-x86_64.exe\n",
      "C:\\Users\\pratyush\\Downloads\\SpiderMan SpiderVerse (2018) [Hin+Eng] 720p @IMDbHindimovies.mkv\n",
      "C:\\Users\\pratyush\\Downloads\\Unconfirmed 238606.crdownload\n",
      "C:\\Users\\pratyush\\Downloads\\VSCodeUserSetup-x64-1.79.2.exe\n",
      "C:\\Users\\pratyush\\Downloads\\wallpaperflare.com_wallpaper.jpg\n"
     ]
    }
   ],
   "source": [
    "for root, dirs, files in os.walk(r\"C:\\Users\\pratyush\\Downloads\", topdown=False):\n",
    "    for name in files:\n",
    "        print(os.path.join(root, name))\n",
    "    for name in dirs:\n",
    "        print(os.path.join(root, name))"
   ]
  },
  {
   "cell_type": "code",
   "execution_count": null,
   "metadata": {},
   "outputs": [],
   "source": []
  },
  {
   "cell_type": "code",
   "execution_count": null,
   "metadata": {},
   "outputs": [],
   "source": []
  }
 ],
 "metadata": {
  "kernelspec": {
   "display_name": "base",
   "language": "python",
   "name": "python3"
  },
  "language_info": {
   "codemirror_mode": {
    "name": "ipython",
    "version": 3
   },
   "file_extension": ".py",
   "mimetype": "text/x-python",
   "name": "python",
   "nbconvert_exporter": "python",
   "pygments_lexer": "ipython3",
   "version": "3.10.10"
  },
  "orig_nbformat": 4
 },
 "nbformat": 4,
 "nbformat_minor": 2
}
